{
 "cells": [
  {
   "cell_type": "code",
   "execution_count": 2,
   "metadata": {},
   "outputs": [],
   "source": [
    "from __future__ import annotations\n",
    "import numpy as np"
   ]
  },
  {
   "cell_type": "code",
   "execution_count": null,
   "metadata": {},
   "outputs": [],
   "source": [
    "class Node:\n",
    "    def __init__(\n",
    "        self, left: Node = None, right: Node = None, feature_idx: int = None, value=None\n",
    "    ):\n",
    "        self.left = left\n",
    "        self.right = right\n",
    "        self.value = value\n",
    "        self.feature_idx = feature_idx\n",
    "\n",
    "    def is_leaf_node(self):\n",
    "        return self.value != None"
   ]
  },
  {
   "cell_type": "code",
   "execution_count": null,
   "metadata": {},
   "outputs": [],
   "source": [
    "class DecisionTree:\n",
    "    def fit(self, X: np.array, Y: np.array):\n",
    "        self.labels = np.unique(Y)\n",
    "\n",
    "        self.grow_tree()\n",
    "            \n",
    "\n",
    "    def predict(self, x: np.array):\n",
    "        pass\n",
    "\n",
    "    def traverse(self, node: Node, x: np.array):\n",
    "        pass\n",
    "    \n",
    "    def impurity(node: Node, data: np.array, feature_idx: int):\n",
    "        n = len(data)\n",
    "        \n",
    "        unique_feats_under_feature_idx = np.unique(data[feature_idx])\n",
    "        subset = data[:,feature_idx]\n",
    "        g_i = 0\n",
    "        for unique_feat in unique_feats_under_feature_idx:\n",
    "            \n",
    "            subsubset = np.array([row for row in subset if row[0]==unique_feat])\n",
    "            n_sss = len(subsubset)\n",
    "\n",
    "            unique_y_counts = np.bincount(subsubset[:,1])\n",
    "            # gini impurity for sub-sub-set\n",
    "            g_i_sss = 1 - sum([(unique_y_count/n_sss)**2 for unique_y_count in unique_y_counts])\n",
    "\n",
    "            g_i += n_sss*g_i_sss\n",
    "        \n",
    "        return g_i"
   ]
  },
  {
   "cell_type": "code",
   "execution_count": 1,
   "metadata": {},
   "outputs": [
    {
     "data": {
      "text/plain": [
       "array([1, 2, 3], dtype=int64)"
      ]
     },
     "execution_count": 1,
     "metadata": {},
     "output_type": "execute_result"
    }
   ],
   "source": [
    "import numpy as np\n",
    "x = np.array([0, 1, 1, 2, 2, 2])\n",
    "np.bincount(x)"
   ]
  }
 ],
 "metadata": {
  "kernelspec": {
   "display_name": "venv",
   "language": "python",
   "name": "python3"
  },
  "language_info": {
   "codemirror_mode": {
    "name": "ipython",
    "version": 3
   },
   "file_extension": ".py",
   "mimetype": "text/x-python",
   "name": "python",
   "nbconvert_exporter": "python",
   "pygments_lexer": "ipython3",
   "version": "3.11.6"
  },
  "orig_nbformat": 4,
  "vscode": {
   "interpreter": {
    "hash": "4139ce6cdfa27c47aa93d15e8a7a3f36d51fe460ab67790eb44b688a63c4dba8"
   }
  }
 },
 "nbformat": 4,
 "nbformat_minor": 2
}
