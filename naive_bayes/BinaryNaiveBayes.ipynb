{
 "cells": [
  {
   "cell_type": "code",
   "execution_count": 102,
   "metadata": {},
   "outputs": [],
   "source": [
    "from sklearn.preprocessing import LabelEncoder\n",
    "import numpy as np\n",
    "log = np.log\n",
    "α = 1"
   ]
  },
  {
   "cell_type": "code",
   "execution_count": 103,
   "metadata": {},
   "outputs": [],
   "source": [
    "class BinarrayNaiveBayes:\n",
    "    def fit(self, paragraphs: list[list[str]], labels: list[int]):\n",
    "        unique_words = list(set([item for sublist in paragraphs for item in sublist]))\n",
    "\n",
    "        self.label_encoder = LabelEncoder()\n",
    "        self.label_encoder.fit_transform(unique_words)\n",
    "        self.N = len(unique_words)\n",
    "\n",
    "        # CALCULATING CONDITIONAL PROBABILTIES FOR WORD GIVEN BINARY CLASS LABEL (P(word|0) and P(word|1))\n",
    "        self.conditional_probabilities = np.array(\n",
    "            [[α for _ in range(self.N + 1)], [α for _ in range(self.N + 1)]],\n",
    "            dtype=float,\n",
    "        )\n",
    "        # Here, we are reserving the Nth position for the conditional probability of an unkown word that isn't present in the training dataset\n",
    "\n",
    "        for j in range(len(paragraphs)):\n",
    "            words = paragraphs[j]\n",
    "            class_index = labels[j]\n",
    "            for i in range(len(words)):\n",
    "                encoded_word = self.label_encoder.transform([words[i]])[0]\n",
    "                self.conditional_probabilities[class_index][encoded_word] += 1\n",
    "\n",
    "        self.N_0 = sum(self.conditional_probabilities[0])\n",
    "        self.N_1 = sum(self.conditional_probabilities[1])\n",
    "\n",
    "        self.conditional_probabilities[0] = self.conditional_probabilities[0] / self.N_0\n",
    "        self.conditional_probabilities[1] = self.conditional_probabilities[1] / self.N_1\n",
    "\n",
    "        # CALCULATING the probability of getting each of the binary classes from the training dataset\n",
    "        self.class_probability = [\n",
    "            self.N_0 / (self.N_0 + self.N_1),\n",
    "            self.N_1 / (self.N_0 + self.N_1),\n",
    "        ]\n",
    "\n",
    "    def get_probabilitiy_for_class(self, class_index: int, features: list[int]):\n",
    "        return (\n",
    "            self.class_probability[class_index]\n",
    "            * [self.conditional_probabilities[class_index][i] for i in features].prod()\n",
    "        )\n",
    "\n",
    "    def get_log_probabilitiy_for_class(self, class_index: int, features: list[int]):\n",
    "        return log(self.class_probability[class_index]) + sum(\n",
    "            [log(self.conditional_probabilities[class_index][i]) for i in features]\n",
    "        )\n",
    "\n",
    "    def predict(self, features: list[str]):\n",
    "        features = features.copy()\n",
    "        for i in range(len(features)):\n",
    "            try:\n",
    "                features[i] = self.label_encoder.transform([features[i]])[0]\n",
    "            except ValueError as e:\n",
    "                features[i] = self.N\n",
    "        return (\n",
    "            0\n",
    "            if self.get_log_probabilitiy_for_class(0, features)\n",
    "            > self.get_log_probabilitiy_for_class(1, features)\n",
    "            else 1\n",
    "        )\n",
    "        # get_probabilitiy_for_class(0,features) > get_probabilitiy_for_class(1,features)\n",
    "\n",
    "    def predictY(self, X: np.array):\n",
    "        # same thing as predict() but for an array of x vectors(=X), instead of a one x vector\n",
    "        return [self.predict(X[i]) for i in range(len(X))]\n",
    "\n",
    "    def score(self, X, Y):\n",
    "        Y_pred = np.array(self.predictY(X))\n",
    "        return 1 - sum((Y - Y_pred) ** 2) / len(Y_pred)"
   ]
  },
  {
   "cell_type": "markdown",
   "metadata": {},
   "source": [
    "testing"
   ]
  },
  {
   "cell_type": "code",
   "execution_count": 104,
   "metadata": {},
   "outputs": [],
   "source": [
    "clf = BinarrayNaiveBayes()\n",
    "\n",
    "clf.fit([[\"Money\",\"Money\",\"Pay\"],[\"Hi\",\"Dear\",\"omg\",\"bruh\"]],[0,1])"
   ]
  },
  {
   "cell_type": "code",
   "execution_count": 105,
   "metadata": {},
   "outputs": [
    {
     "name": "stdout",
     "output_type": "stream",
     "text": [
      "[[0.1        0.1        0.3        0.2        0.1        0.1\n",
      "  0.1       ]\n",
      " [0.18181818 0.18181818 0.09090909 0.09090909 0.18181818 0.18181818\n",
      "  0.09090909]]\n"
     ]
    }
   ],
   "source": [
    "print(clf.conditional_probabilities)"
   ]
  },
  {
   "cell_type": "code",
   "execution_count": 106,
   "metadata": {},
   "outputs": [
    {
     "data": {
      "text/plain": [
       "1"
      ]
     },
     "execution_count": 106,
     "metadata": {},
     "output_type": "execute_result"
    }
   ],
   "source": [
    "clf.predict([\"Money\",\"omg\",\"omg\",\"bruh\",\"Bruh\",\"Bruh\",\"Bruh\"])"
   ]
  },
  {
   "cell_type": "markdown",
   "metadata": {},
   "source": [
    "# Application"
   ]
  },
  {
   "cell_type": "markdown",
   "metadata": {},
   "source": [
    "## EMAIL SPAM DETECTION USING NAIVE BAYES"
   ]
  },
  {
   "cell_type": "code",
   "execution_count": 107,
   "metadata": {},
   "outputs": [],
   "source": [
    "import pandas as pd\n",
    "from sklearn.model_selection import train_test_split\n",
    "\n",
    "df = pd.read_csv(\"data/spam.csv\").head(1000)\n",
    "# df.head()"
   ]
  },
  {
   "cell_type": "code",
   "execution_count": 108,
   "metadata": {},
   "outputs": [],
   "source": [
    "paragraphs = [df.Message.iloc[i].replace(\".\", \"\").split() for i in range(len(df))]\n",
    "labels = [1 if df.Category.iloc[i] == \"spam\" else 0 for i in range(len(df))]"
   ]
  },
  {
   "cell_type": "code",
   "execution_count": 109,
   "metadata": {},
   "outputs": [],
   "source": [
    "X_Train, X_Test, Y_Train,Y_test = train_test_split(paragraphs,labels, train_size=0.5)"
   ]
  },
  {
   "cell_type": "code",
   "execution_count": 110,
   "metadata": {},
   "outputs": [],
   "source": [
    "clf.fit(X_Train,Y_Train)"
   ]
  },
  {
   "cell_type": "markdown",
   "metadata": {},
   "source": [
    "Making a prediction"
   ]
  },
  {
   "cell_type": "code",
   "execution_count": 111,
   "metadata": {},
   "outputs": [
    {
     "data": {
      "text/plain": [
       "(['If',\n",
       "  'u',\n",
       "  'sending',\n",
       "  'her',\n",
       "  'home',\n",
       "  'first',\n",
       "  \"it's\",\n",
       "  'ok',\n",
       "  'lor',\n",
       "  \"I'm\",\n",
       "  'not',\n",
       "  'ready',\n",
       "  'yet'],\n",
       " 'not spam')"
      ]
     },
     "execution_count": 111,
     "metadata": {},
     "output_type": "execute_result"
    }
   ],
   "source": [
    "X_Test[2], \"spam\" if Y_test[2] == 1 else \"not spam\""
   ]
  },
  {
   "cell_type": "code",
   "execution_count": 112,
   "metadata": {},
   "outputs": [
    {
     "data": {
      "text/plain": [
       "'not spam'"
      ]
     },
     "execution_count": 112,
     "metadata": {},
     "output_type": "execute_result"
    }
   ],
   "source": [
    "\"spam\" if clf.predict(X_Test[2]) else \"not spam\""
   ]
  },
  {
   "cell_type": "markdown",
   "metadata": {},
   "source": [
    "Checking accuracy"
   ]
  },
  {
   "cell_type": "code",
   "execution_count": 113,
   "metadata": {},
   "outputs": [
    {
     "data": {
      "text/plain": [
       "0.904"
      ]
     },
     "execution_count": 113,
     "metadata": {},
     "output_type": "execute_result"
    }
   ],
   "source": [
    "clf.score(X_Test,Y_test)"
   ]
  }
 ],
 "metadata": {
  "kernelspec": {
   "display_name": "Python 3",
   "language": "python",
   "name": "python3"
  },
  "language_info": {
   "codemirror_mode": {
    "name": "ipython",
    "version": 3
   },
   "file_extension": ".py",
   "mimetype": "text/x-python",
   "name": "python",
   "nbconvert_exporter": "python",
   "pygments_lexer": "ipython3",
   "version": "3.11.6"
  }
 },
 "nbformat": 4,
 "nbformat_minor": 2
}
