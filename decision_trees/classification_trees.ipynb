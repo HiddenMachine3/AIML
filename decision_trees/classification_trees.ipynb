{
 "cells": [
  {
   "cell_type": "code",
   "execution_count": 2,
   "metadata": {},
   "outputs": [],
   "source": [
    "from __future__ import annotations\n",
    "import numpy as np"
   ]
  },
  {
   "cell_type": "code",
   "execution_count": null,
   "metadata": {},
   "outputs": [],
   "source": [
    "class Node:\n",
    "    def __init__(\n",
    "        self, left: Node = None, right: Node = None, feature_idx: int = None, value=None\n",
    "    ):\n",
    "        self.left = left\n",
    "        self.right = right\n",
    "        self.value = value\n",
    "        self.feature_idx = feature_idx\n",
    "\n",
    "    def is_leaf_node(self):\n",
    "        return self.value != None"
   ]
  },
  {
   "cell_type": "code",
   "execution_count": null,
   "metadata": {},
   "outputs": [],
   "source": [
    "class DecisionTree:\n",
    "    def __init__(self, max_depth: int = 5, min_samples_split: int = 2):\n",
    "        self.max_depth = max_depth\n",
    "        self.min_samples_split = min_samples_split\n",
    "        self.root = None\n",
    "\n",
    "    def grow_tree(self, X, y, depth=0):\n",
    "        n_samples, n_features = X.shape\n",
    "        n_labels = len(np.unique(y))\n",
    "\n",
    "        # check  for stopping  criterion\n",
    "        if (\n",
    "            depth >= self.max_depth\n",
    "            or n_labels == 1\n",
    "            or n_samples < self.min_samples_split\n",
    "        ):\n",
    "\n",
    "            def most_common_label(y):\n",
    "                return np.bincount(y).argmax()\n",
    "\n",
    "            leaf_value = most_common_label(y)\n",
    "            return Node(value=leaf_value)\n",
    "\n",
    "        # find best split\n",
    "        best_feature_idx = self._find_best_split(X, y)\n",
    "\n",
    "        # create child nodes\n",
    "        \n",
    "\n",
    "    def _find_best_split(self, X, y):\n",
    "        min_impurity = float('inf')\n",
    "        best_feature_idx = None\n",
    "\n",
    "        for feature_idx in range(X.shape[1]):\n",
    "            impurity = self.impurity(X, y, feature_idx)\n",
    "\n",
    "            if impurity < min_impurity:\n",
    "                min_impurity = impurity\n",
    "                best_feature_idx = feature_idx\n",
    "\n",
    "        return best_feature_idx\n",
    "\n",
    "    def fit(self, X: np.array, Y: np.array):\n",
    "        self.labels = np.unique(Y)\n",
    "\n",
    "        self.root = self._grow_tree(X, y)\n",
    "\n",
    "    def predict(self, x: np.array):\n",
    "        pass\n",
    "\n",
    "    def traverse(self, node: Node, x: np.array):\n",
    "        pass\n",
    "\n",
    "    def impurity(node: Node, data: np.array, feature_idx: int):\n",
    "        n = len(data)\n",
    "\n",
    "        unique_feats_under_feature_idx = np.unique(data[feature_idx])\n",
    "        subset = data[:, feature_idx]\n",
    "        g_i = 0\n",
    "        for unique_feat in unique_feats_under_feature_idx:\n",
    "            subsubset = np.array([row for row in subset if row[0] == unique_feat])\n",
    "            n_sss = len(subsubset)\n",
    "\n",
    "            unique_y_counts = np.bincount(subsubset[:, 1])\n",
    "            # gini impurity for sub-sub-set\n",
    "            g_i_sss = 1 - sum(\n",
    "                [(unique_y_count / n_sss) ** 2 for unique_y_count in unique_y_counts]\n",
    "            )\n",
    "\n",
    "            g_i += n_sss * g_i_sss\n",
    "\n",
    "        return g_i"
   ]
  }
 ],
 "metadata": {
  "kernelspec": {
   "display_name": "venv",
   "language": "python",
   "name": "python3"
  },
  "language_info": {
   "codemirror_mode": {
    "name": "ipython",
    "version": 3
   },
   "file_extension": ".py",
   "mimetype": "text/x-python",
   "name": "python",
   "nbconvert_exporter": "python",
   "pygments_lexer": "ipython3",
   "version": "3.11.1"
  },
  "orig_nbformat": 4,
  "vscode": {
   "interpreter": {
    "hash": "4139ce6cdfa27c47aa93d15e8a7a3f36d51fe460ab67790eb44b688a63c4dba8"
   }
  }
 },
 "nbformat": 4,
 "nbformat_minor": 2
}
