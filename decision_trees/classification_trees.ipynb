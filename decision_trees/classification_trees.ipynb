{
 "cells": [
  {
   "cell_type": "code",
   "execution_count": 2,
   "metadata": {},
   "outputs": [],
   "source": [
    "from __future__ import annotations\n",
    "import numpy as np"
   ]
  },
  {
   "cell_type": "code",
   "execution_count": null,
   "metadata": {},
   "outputs": [],
   "source": [
    "class Node:\n",
    "    def __init__(\n",
    "        self, left: Node = None, right: Node = None, feature_idx: int = None, value=None\n",
    "    ):\n",
    "        self.left = left\n",
    "        self.right = right\n",
    "        self.value = value\n",
    "        self.feature_idx = feature_idx\n",
    "\n",
    "    def is_leaf_node(self):\n",
    "        return self.value != None"
   ]
  },
  {
   "cell_type": "code",
   "execution_count": null,
   "metadata": {},
   "outputs": [],
   "source": [
    "class DecisionTree:\n",
    "    def fit(self, X: np.array, Y: np.array):\n",
    "        self.labels = np.unique(Y)\n",
    "\n",
    "        self.grow_tree()\n",
    "            \n",
    "\n",
    "    def predict(self, x: np.array):\n",
    "        pass\n",
    "\n",
    "    def traverse(self, node: Node, x: np.array):\n",
    "        pass\n",
    "    \n",
    "    def impurity(node: Node, data: np.array, feature_idx: int):\n",
    "        n = len(data)\n",
    "        \n",
    "        return 1 - P() - P()"
   ]
  }
 ],
 "metadata": {
  "kernelspec": {
   "display_name": "venv",
   "language": "python",
   "name": "python3"
  },
  "language_info": {
   "codemirror_mode": {
    "name": "ipython",
    "version": 3
   },
   "file_extension": ".py",
   "mimetype": "text/x-python",
   "name": "python",
   "nbconvert_exporter": "python",
   "pygments_lexer": "ipython3",
   "version": "3.11.1"
  },
  "orig_nbformat": 4,
  "vscode": {
   "interpreter": {
    "hash": "4139ce6cdfa27c47aa93d15e8a7a3f36d51fe460ab67790eb44b688a63c4dba8"
   }
  }
 },
 "nbformat": 4,
 "nbformat_minor": 2
}
