{
 "cells": [
  {
   "cell_type": "code",
   "execution_count": 1,
   "metadata": {},
   "outputs": [],
   "source": [
    "from __future__ import annotations\n",
    "import numpy as np"
   ]
  },
  {
   "cell_type": "code",
   "execution_count": 2,
   "metadata": {},
   "outputs": [],
   "source": [
    "class Node:\n",
    "    def __init__(\n",
    "        self, left: Node = None, right: Node = None, feature_idx: int = None, value=None\n",
    "    ):\n",
    "        self.left = left\n",
    "        self.right = right\n",
    "        self.value = value\n",
    "        self.feature_idx = feature_idx\n",
    "\n",
    "    def is_leaf_node(self):\n",
    "        return self.value != None"
   ]
  },
  {
   "cell_type": "code",
   "execution_count": 3,
   "metadata": {},
   "outputs": [],
   "source": [
    "class DecisionTree:\n",
    "    def __init__(self, max_depth: int = 5, min_samples_split: int = 2):\n",
    "        self.max_depth = max_depth\n",
    "        self.min_samples_split = min_samples_split\n",
    "        self.root = None\n",
    "\n",
    "    def _grow_tree(self, X, y, depth=0):\n",
    "        n_samples, n_features = X.shape\n",
    "        n_labels = len(np.unique(y))\n",
    "\n",
    "        # check  for stopping  criterion\n",
    "        if (\n",
    "            depth >= self.max_depth\n",
    "            or n_labels == 1\n",
    "            or n_samples < self.min_samples_split\n",
    "        ):\n",
    "\n",
    "            def most_common_label(y):\n",
    "                return np.bincount(y).argmax()\n",
    "\n",
    "            leaf_value = most_common_label(y)\n",
    "            return Node(value=leaf_value)\n",
    "\n",
    "        # find best split\n",
    "        best_feature_idx = self._find_best_split(X, y)\n",
    "\n",
    "        # create child nodes\n",
    "        left_node = self._grow_tree(\n",
    "            X[X[:, best_feature_idx] == True],\n",
    "            y[X[:, best_feature_idx] == True],\n",
    "            depth=depth + 1,\n",
    "        )\n",
    "        right_node = self._grow_tree(\n",
    "            X[X[:, best_feature_idx] == False],\n",
    "            y[X[:, best_feature_idx] == False],\n",
    "            depth=depth + 1,\n",
    "        )\n",
    "\n",
    "        node = Node(left=left_node, right=right_node, feature_idx=best_feature_idx)\n",
    "\n",
    "        return node\n",
    "\n",
    "    def _find_best_split(self, X, y):\n",
    "        min_impurity = float(\"inf\")\n",
    "        best_feature_idx = None\n",
    "\n",
    "        for feature_idx in range(X.shape[1]):\n",
    "            impurity = self.impurity(X, y, feature_idx)\n",
    "\n",
    "            if impurity < min_impurity:\n",
    "                min_impurity = impurity\n",
    "                best_feature_idx = feature_idx\n",
    "\n",
    "        return best_feature_idx\n",
    "\n",
    "    def fit(self, X: np.array, Y: np.array):\n",
    "        self.labels = np.unique(Y)\n",
    "\n",
    "        self.root = self._grow_tree(X, y)\n",
    "\n",
    "    def predict(self, x: np.array):\n",
    "        return self.traverse(self.root, x)\n",
    "\n",
    "    def traverse(self, node: Node, x: np.array):\n",
    "        if node.is_leaf_node():\n",
    "            return node.value\n",
    "\n",
    "        if x[node.feature_idx]:\n",
    "            return self.traverse(node.left, x)\n",
    "        else:\n",
    "            return self.traverse(node.right, x)\n",
    "\n",
    "    def impurity(node: Node, X: np.array, y: np.array, feature_idx: int):\n",
    "        # Get the gini impurity for a node\n",
    "        n = len(X)\n",
    "\n",
    "        unique_feats_under_feature_idx = np.unique(X[feature_idx])\n",
    "        X_column = X[:, feature_idx]\n",
    "        g_i = 0\n",
    "        for unique_feat in unique_feats_under_feature_idx:\n",
    "            subsubset = X_column[\n",
    "                X_column == unique_feat\n",
    "            ]  # np.array([row for row in subset if row[0] == unique_feat])\n",
    "            n_sss = len(subsubset)\n",
    "\n",
    "            unique_y_counts = np.bincount(\n",
    "                y[X_column == unique_feat]\n",
    "            )  # subsubset[:, 1])\n",
    "            # gini impurity for sub-sub-set\n",
    "            g_i_sss = 1 - sum(\n",
    "                [(unique_y_count / n_sss) ** 2 for unique_y_count in unique_y_counts]\n",
    "            )\n",
    "\n",
    "            g_i += n_sss * g_i_sss\n",
    "\n",
    "        return g_i"
   ]
  },
  {
   "cell_type": "code",
   "execution_count": 4,
   "metadata": {},
   "outputs": [],
   "source": [
    "clf = DecisionTree()"
   ]
  },
  {
   "cell_type": "code",
   "execution_count": 5,
   "metadata": {},
   "outputs": [
    {
     "data": {
      "text/plain": [
       "array([[ True, False,  True, False],\n",
       "       [ True,  True,  True, False],\n",
       "       [ True, False,  True, False],\n",
       "       [ True,  True,  True, False],\n",
       "       [False, False, False, False],\n",
       "       [False,  True, False, False],\n",
       "       [ True,  True,  True, False],\n",
       "       [ True,  True,  True,  True]])"
      ]
     },
     "execution_count": 5,
     "metadata": {},
     "output_type": "execute_result"
    }
   ],
   "source": [
    "data = np.array([\n",
    "    [True, False, True, False, False],\n",
    "    [True, True, True, False, True],\n",
    "    [True, False, True, False, False],\n",
    "    [True, True, True, False, True],\n",
    "    [False, False, False, False, False],\n",
    "    [False, True, False, False, True],\n",
    "    [True, True, True, False, True],\n",
    "    [True, True, True, True, True],\n",
    "])\n",
    "X = data[:,:-1]\n",
    "y = data[:,-1]\n",
    "X"
   ]
  },
  {
   "cell_type": "code",
   "execution_count": 6,
   "metadata": {},
   "outputs": [
    {
     "data": {
      "text/plain": [
       "array([False,  True, False,  True, False,  True,  True,  True])"
      ]
     },
     "execution_count": 6,
     "metadata": {},
     "output_type": "execute_result"
    }
   ],
   "source": [
    "y"
   ]
  },
  {
   "cell_type": "code",
   "execution_count": 7,
   "metadata": {},
   "outputs": [],
   "source": [
    "clf.fit(X,y)"
   ]
  },
  {
   "cell_type": "code",
   "execution_count": 8,
   "metadata": {},
   "outputs": [
    {
     "name": "stdout",
     "output_type": "stream",
     "text": [
      "None\n"
     ]
    }
   ],
   "source": [
    "print(clf.root.right.right)"
   ]
  },
  {
   "cell_type": "code",
   "execution_count": 14,
   "metadata": {},
   "outputs": [
    {
     "data": {
      "text/plain": [
       "1"
      ]
     },
     "execution_count": 14,
     "metadata": {},
     "output_type": "execute_result"
    }
   ],
   "source": [
    "clf.predict(np.array([False, True,  False, False]))"
   ]
  },
  {
   "cell_type": "code",
   "execution_count": 15,
   "metadata": {},
   "outputs": [
    {
     "data": {
      "text/plain": [
       "0"
      ]
     },
     "execution_count": 15,
     "metadata": {},
     "output_type": "execute_result"
    }
   ],
   "source": [
    "clf.predict(np.array([False, False,  False, False]))"
   ]
  },
  {
   "attachments": {},
   "cell_type": "markdown",
   "metadata": {},
   "source": [
    "The tree pattern mainly depends on wether the 1st value(after 0th) is True or False, and it is correctly  able to classify it based on that"
   ]
  },
  {
   "cell_type": "code",
   "execution_count": 16,
   "metadata": {},
   "outputs": [
    {
     "data": {
      "text/plain": [
       "1"
      ]
     },
     "execution_count": 16,
     "metadata": {},
     "output_type": "execute_result"
    }
   ],
   "source": [
    "clf.root.feature_idx"
   ]
  }
 ],
 "metadata": {
  "kernelspec": {
   "display_name": "venv",
   "language": "python",
   "name": "python3"
  },
  "language_info": {
   "codemirror_mode": {
    "name": "ipython",
    "version": 3
   },
   "file_extension": ".py",
   "mimetype": "text/x-python",
   "name": "python",
   "nbconvert_exporter": "python",
   "pygments_lexer": "ipython3",
   "version": "3.11.1"
  },
  "orig_nbformat": 4,
  "vscode": {
   "interpreter": {
    "hash": "4139ce6cdfa27c47aa93d15e8a7a3f36d51fe460ab67790eb44b688a63c4dba8"
   }
  }
 },
 "nbformat": 4,
 "nbformat_minor": 2
}
