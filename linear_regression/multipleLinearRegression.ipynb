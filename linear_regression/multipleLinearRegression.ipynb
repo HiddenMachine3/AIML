{
 "cells": [
  {
   "cell_type": "code",
   "execution_count": 27,
   "metadata": {},
   "outputs": [
    {
     "name": "stdout",
     "output_type": "stream",
     "text": [
      "X:\n",
      "[[1 3 2]\n",
      " [1 5 3]\n",
      " [1 6 4]\n",
      " [1 7 5]\n",
      " [1 8 6]]\n",
      "y:\n",
      "[ 2  4  6  8 10]\n",
      "w:\n",
      "[-2.00000000e+00  1.59872116e-14  2.00000000e+00]\n"
     ]
    }
   ],
   "source": [
    "import pandas as pd\n",
    "import numpy as np\n",
    "from numpy import matmul\n",
    "from numpy.linalg import inv\n",
    "\n",
    "\"\"\"\n",
    "e = (yi−^yi)\n",
    "y = Xw + e\n",
    "Err=∑(e_i)^2\n",
    "predicted value of our target: ^y\n",
    "residual vector : e\n",
    "\"\"\"\n",
    "\n",
    "# calculating w,y_pred when X,y are given\n",
    "# x1 = np.array([1, 2, 5])\n",
    "# x2 = np.array([1, 3, 5])\n",
    "# x3 = np.array([1, 4, 7])\n",
    "# X = np.array([np.array([1,_]) for _ in range(1,6)])\n",
    "\n",
    "x1 = np.array([1,3, 2])\n",
    "x2 = np.array([1,5, 3])\n",
    "x3 = np.array([1,6, 4])\n",
    "x4 = np.array([1,7, 5])\n",
    "x5 = np.array([1,8, 6])\n",
    "x6 = np.array([1,9, 7])\n",
    "X=np.array([x1,x2,x3,x4,x5])\n",
    "\n",
    "y = np.array([2*_ for _ in range(1,6)])  # y is a vector, so whether its a 1 by 3 or 3 by 1 matrix shouldn't matter much\n",
    "\n",
    "w = matmul(matmul(inv(matmul(X.T, X)), X.T), y)\n",
    "\n",
    "# x = np.array([1, 5, 8])\n",
    "\n",
    "print(\"X:\", X, \"y:\", y, \"w:\", w, sep=\"\\n\")"
   ]
  }
 ],
 "metadata": {
  "kernelspec": {
   "display_name": "Python 3",
   "language": "python",
   "name": "python3"
  },
  "language_info": {
   "codemirror_mode": {
    "name": "ipython",
    "version": 3
   },
   "file_extension": ".py",
   "mimetype": "text/x-python",
   "name": "python",
   "nbconvert_exporter": "python",
   "pygments_lexer": "ipython3",
   "version": "3.11.5"
  },
  "orig_nbformat": 4
 },
 "nbformat": 4,
 "nbformat_minor": 2
}
