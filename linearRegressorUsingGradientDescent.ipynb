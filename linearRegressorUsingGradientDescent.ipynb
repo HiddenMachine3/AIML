{
 "cells": [
  {
   "cell_type": "code",
   "execution_count": 54,
   "metadata": {},
   "outputs": [],
   "source": [
    "import numpy as np\n",
    "import matplotlib.pyplot as plt"
   ]
  },
  {
   "cell_type": "code",
   "execution_count": 55,
   "metadata": {},
   "outputs": [],
   "source": [
    "def gradient_descent(a:int,b:int,lr:int,X:np.array,Y:np.array,n,max_steps:int):\n",
    "    \"\"\"\n",
    "    a,b : coeffs. inputs a,b are the initial coeffs which are assumed\n",
    "    lr : learning rate\n",
    "    X,Y : x,y values of points\n",
    "    n : number of points\n",
    "    Ɛ ~= 0 (some small value close to 0)\n",
    "\n",
    "    returns : a,b\n",
    "    \"\"\"\n",
    "    Ɛ = 10**-6\n",
    "    for step in range(max_steps):\n",
    "        a_prev,b_prev = a,b\n",
    "        \n",
    "        Y_pred = a*X - b\n",
    "        decr_a = (-2/n)*np.sum((Y-Y_pred)*X)\n",
    "        decr_b = (2/n)*np.sum(Y-Y_pred)\n",
    "\n",
    "        a = a_prev - lr*decr_a\n",
    "        b = b_prev - lr*decr_b\n",
    "\n",
    "        if (a_prev -a)**2 + (b_prev-b)**2 < Ɛ:\n",
    "            break\n",
    "    \n",
    "    return a,b"
   ]
  },
  {
   "cell_type": "code",
   "execution_count": 56,
   "metadata": {},
   "outputs": [],
   "source": [
    "X = np.array([1,2,3,4,5])\n",
    "Y = np.array([2,4,6,8,10])"
   ]
  },
  {
   "cell_type": "code",
   "execution_count": 57,
   "metadata": {},
   "outputs": [],
   "source": [
    "a,b = 0,-1\n",
    "lr = 0.01\n",
    "n = len(X)\n",
    "max_steps = 1000"
   ]
  },
  {
   "cell_type": "code",
   "execution_count": 58,
   "metadata": {},
   "outputs": [
    {
     "data": {
      "text/plain": [
       "(1.9213316972788435, -0.2840175341406585)"
      ]
     },
     "execution_count": 58,
     "metadata": {},
     "output_type": "execute_result"
    }
   ],
   "source": [
    "gradient_descent(a,b,lr,X,Y,n,max_steps)"
   ]
  }
 ],
 "metadata": {
  "kernelspec": {
   "display_name": "Python 3",
   "language": "python",
   "name": "python3"
  },
  "language_info": {
   "codemirror_mode": {
    "name": "ipython",
    "version": 3
   },
   "file_extension": ".py",
   "mimetype": "text/x-python",
   "name": "python",
   "nbconvert_exporter": "python",
   "pygments_lexer": "ipython3",
   "version": "3.11.5"
  },
  "orig_nbformat": 4
 },
 "nbformat": 4,
 "nbformat_minor": 2
}
