{
 "cells": [
  {
   "cell_type": "code",
   "execution_count": null,
   "metadata": {},
   "outputs": [],
   "source": [
    "\"\"\"\n",
    "e = (yi-^yi)\n",
    "y = Xw + e\n",
    "Err=∑(e_i)^2\n",
    "predicted value of our target: ^y\n",
    "residual vector : e\n",
    "\"\"\"\n",
    "\n",
    "# calculating w,y_pred when X,y are given\n",
    "# x1 = np.array([1, 2, 5])\n",
    "# x2 = np.array([1, 3, 5])\n",
    "# x3 = np.array([1, 4, 7])\n",
    "# X = np.array([np.array([1,_]) for _ in range(1,6)])\n",
    "\n",
    "# x1 = np.array([1,3, 2])\n",
    "# x2 = np.array([1,5, 3])\n",
    "# x3 = np.array([1,6, 4])\n",
    "# x4 = np.array([1,7, 5])\n",
    "# x5 = np.array([1,8, 6])\n",
    "# x6 = np.array([1,9, 7])\n",
    "# X=np.array([x1,x2,x3,x4,x5])\n",
    "\n",
    "# y = np.array([2*_ for _ in range(1,6)])  # y is a vector, so whether its a 1 by 3 or 3 by 1 matrix shouldn't matter much\n",
    "\n",
    "# w = matmul(matmul(inv(matmul(X.T, X)), X.T), y)\n",
    "\n",
    "# x = np.array([1, 5, 8])\n",
    "\n",
    "# print(\"X:\", X, \"y:\", Y, \"w:\", w, sep=\"\\n\")"
   ]
  }
 ],
 "metadata": {
  "language_info": {
   "name": "python"
  }
 },
 "nbformat": 4,
 "nbformat_minor": 2
}
