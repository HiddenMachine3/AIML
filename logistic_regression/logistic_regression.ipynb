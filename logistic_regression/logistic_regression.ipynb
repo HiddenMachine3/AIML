{
 "cells": [
  {
   "cell_type": "code",
   "execution_count": 1,
   "metadata": {},
   "outputs": [],
   "source": [
    "import numpy as np\n",
    "from math import log,e\n",
    "import matplotlib.pyplot as plt"
   ]
  },
  {
   "cell_type": "code",
   "execution_count": 2,
   "metadata": {},
   "outputs": [],
   "source": [
    "def insert_ones(array2d:np.array):\n",
    "    \"\"\"\n",
    "    So, we don't want to write extra boiler plate code or formula for calculating the \n",
    "    bias separately. That's why we will make it part of the weights w itself.\n",
    "    Since we are doing that, np.dot(x,w) will also need another term in x to account\n",
    "    for the extra bias term. so we will just put a one at the starting of each x vector\n",
    "    (2,3,5) --> (1,2,3,5)\n",
    "\n",
    "    this function just puts a column of 1 into the left side of the X array\n",
    "    \"\"\"\n",
    "    return np.insert(array2d,0,values=1,axis=1)"
   ]
  },
  {
   "cell_type": "code",
   "execution_count": 3,
   "metadata": {},
   "outputs": [],
   "source": [
    "def gradient_descent(w:np.array,lr:float,X:np.array,Y:np.array,max_steps:int,cost_func,grad_decr,predictY):\n",
    "    \"\"\"\n",
    "    w : coeffs. inputs w are the initial coeffs which are assumed\n",
    "    lr : learning rate\n",
    "    X,Y : x,y values of points\n",
    "    Ɛ ~= 0 (some small value close to 0). We want to stop our loop when the cost function \n",
    "                                          becomes ~= Ɛ\n",
    "\n",
    "    returns : updated weights w\n",
    "    \"\"\"\n",
    "    costs = []\n",
    "    Ɛ = 10**-3\n",
    "    cost = None\n",
    "    for step in range(max_steps):\n",
    "        w_prev = w.copy()\n",
    "        \n",
    "        Y_pred = predictY(w,X)\n",
    "        decr_w = grad_decr(w,X,Y_pred,Y)\n",
    "\n",
    "        w= w_prev - lr*decr_w\n",
    "\n",
    "        cost = cost_func(w,X,Y_pred,Y)\n",
    "        costs.append(cost)\n",
    "        # print(cost)\n",
    "        # print(w)\n",
    "        if (cost)**2 < Ɛ:\n",
    "            break\n",
    "    \n",
    "    plt.scatter([_ for _ in range(len(costs))],costs)\n",
    "    plt.title(\"value of cost function over time\")\n",
    "    plt.show()\n",
    "\n",
    "    return w"
   ]
  },
  {
   "cell_type": "code",
   "execution_count": 4,
   "metadata": {},
   "outputs": [],
   "source": [
    "def sigmoid(t: float):\n",
    "    return 1 / (1 + np.exp(-t))\n",
    "\n",
    "def prob(w: np.array, x: np.array, y: float):\n",
    "    return sigmoid(y * np.dot(w, x))\n",
    "\n",
    "\n",
    "def logloss(w:np.array,X:np.array,Y_pred:np.array,Y=None):\n",
    "    n = len(Y)\n",
    "    # print(sum([int(Y_pred[i]<0) + int(1-Y_pred[i]<0) for i in range(n)]))\n",
    "    # print(sum([int(1-Y_pred[i]==0) for i in range(n)]))\n",
    "    # print(sum([int(Y_pred[i]==0) for i in range(n)]))\n",
    "\n",
    "    return -(1/n)*sum([Y[i]*log(Y_pred[i]) + (1-Y[i])*log(1-Y_pred[i]) for i in range(n)])\n",
    "\n",
    "def grad_decr_logloss(w: np.array, X: np.array, Y_pred: np.array,Y=None):\n",
    "    n = len(Y)\n",
    "    return (1/n) * np.dot(X.T,Y_pred-Y)\n",
    "\n",
    "\n",
    "\n",
    "\n",
    "# functions defined in edx implementation don't work : \n",
    "def _logistic_cost_func(w: np.array, X: np.array, Y_pred: np.array,Y=None):\n",
    "    return -sum([log(prob(w, X[i], Y_pred[i])) for i in range(len(Y_pred))])\n",
    "\n",
    "def _logistic_grad_decr(w: np.array, X: np.array, Y_pred: np.array,Y=None):\n",
    "    return -np.sum(np.array([Y_pred[i] * X[i] * prob(w, X[i], -Y_pred[i]) for i in range(len(Y_pred))]))"
   ]
  },
  {
   "cell_type": "code",
   "execution_count": 5,
   "metadata": {},
   "outputs": [],
   "source": [
    "class BinaryLogisticRegression():\n",
    "\n",
    "    def fit(self,X,Y,init_w=None,lr=0.05,max_steps=500,cost_func=logloss,grad_decr=grad_decr_logloss):\n",
    "        if init_w == None:\n",
    "            init_w = np.zeros(len(X[0]))\n",
    "        self.cost_func = cost_func\n",
    "        self.w = gradient_descent(w=init_w,lr=lr,X=X,Y=Y,max_steps=max_steps,cost_func=cost_func,grad_decr=grad_decr,predictY=self.predictYcontinuous)\n",
    "\n",
    "    def predict(self,x:np.array):\n",
    "        # input: 1 x vector\n",
    "        return sigmoid(np.dot(self.w,x))\n",
    "    \n",
    "    def predictYcontinuous(self,w:np.array,X:np.array):\n",
    "        #\n",
    "        # same thing as predict() but for an array of x vectors, instead of a one x vector\n",
    "        return [sigmoid(np.dot(w,X[i])) for i in range(len(X))]\n",
    "\n",
    "    def predictYdiscrete(self,w:np.array,X:np.array):\n",
    "        #\n",
    "        # same thing as predict() but for an array of x vectors, instead of a one x vector\n",
    "        return [1 if sigmoid(np.dot(w,X[i])) >0.5 else 0 for i in range(len(X))]\n",
    "\n",
    "    def score(self,X,Y):\n",
    "        Y_pred = np.array(self.predictYdiscrete(self.w,X))\n",
    "        return 1 - sum((Y-Y_pred)**2)/len(Y_pred) # self.cost_func(self.w, X, predict,Y)"
   ]
  },
  {
   "cell_type": "code",
   "execution_count": 6,
   "metadata": {},
   "outputs": [
    {
     "data": {
      "image/png": "[encoded data removed]",
      "text/plain": [
       "<Figure size 640x480 with 1 Axes>"
      ]
     },
     "metadata": {},
     "output_type": "display_data"
    }
   ],
   "source": [
    "clf = BinaryLogisticRegression()\n",
    "X = np.array(\n",
    "    [np.array([1,x_i]) for x_i in [0.05, +0.1, +0.2, +0.3, +0.4, +0.5, +0.6, +0.7, +0.8, +0.9]]\n",
    ")\n",
    "Y = np.array([0,0,0,0,0, +1, +1, +1, +1, +1])\n",
    "clf.fit(X, Y,cost_func=logloss,grad_decr=grad_decr_logloss, lr=0.05,max_steps=6000)"
   ]
  },
  {
   "cell_type": "code",
   "execution_count": 7,
   "metadata": {},
   "outputs": [
    {
     "name": "stdout",
     "output_type": "stream",
     "text": [
      "[-4.32113638  9.72660974]\n"
     ]
    }
   ],
   "source": [
    "print(clf.w)"
   ]
  },
  {
   "cell_type": "code",
   "execution_count": 8,
   "metadata": {},
   "outputs": [
    {
     "name": "stdout",
     "output_type": "stream",
     "text": [
      "(0.02114860508852148, 0)\n",
      "(0.033945124590326524, 0)\n",
      "(0.08503565738116012, 0)\n",
      "(0.19731618275444568, 0)\n",
      "(0.3940087380137817, 0)\n",
      "(0.6323167202966331, 1)\n",
      "(0.8197758311179245, 1)\n",
      "(0.923260187122923, 1)\n",
      "(0.9695324397446692, 1)\n",
      "(0.9882584728487632, 1)\n"
     ]
    }
   ],
   "source": [
    "print(\"\\n\".join(map(str, zip(clf.predictYcontinuous(clf.w, X), Y))))"
   ]
  },
  {
   "cell_type": "code",
   "execution_count": 9,
   "metadata": {},
   "outputs": [
    {
     "data": {
      "text/plain": [
       "1.0"
      ]
     },
     "execution_count": 9,
     "metadata": {},
     "output_type": "execute_result"
    }
   ],
   "source": [
    "clf.predict([1,8])"
   ]
  },
  {
   "cell_type": "code",
   "execution_count": 10,
   "metadata": {},
   "outputs": [
    {
     "data": {
      "text/plain": [
       "0.013110606961031316"
      ]
     },
     "execution_count": 10,
     "metadata": {},
     "output_type": "execute_result"
    }
   ],
   "source": [
    "clf.predict([1,0.0])"
   ]
  },
  {
   "cell_type": "code",
   "execution_count": 11,
   "metadata": {},
   "outputs": [
    {
     "data": {
      "text/plain": [
       "1"
      ]
     },
     "execution_count": 11,
     "metadata": {},
     "output_type": "execute_result"
    }
   ],
   "source": [
    "1 if clf.predict([1,+8]) > 0.5 else 0"
   ]
  },
  {
   "cell_type": "code",
   "execution_count": 12,
   "metadata": {},
   "outputs": [
    {
     "data": {
      "text/plain": [
       "1.0"
      ]
     },
     "execution_count": 12,
     "metadata": {},
     "output_type": "execute_result"
    }
   ],
   "source": [
    "clf.score(X=X,Y=Y)"
   ]
  },
  {
   "cell_type": "code",
   "execution_count": 13,
   "metadata": {},
   "outputs": [
    {
     "data": {
      "text/plain": [
       "array([[1.  , 0.05],\n",
       "       [1.  , 0.1 ],\n",
       "       [1.  , 0.2 ],\n",
       "       [1.  , 0.3 ],\n",
       "       [1.  , 0.4 ],\n",
       "       [1.  , 0.5 ],\n",
       "       [1.  , 0.6 ],\n",
       "       [1.  , 0.7 ],\n",
       "       [1.  , 0.8 ],\n",
       "       [1.  , 0.9 ]])"
      ]
     },
     "metadata": {},
     "output_type": "display_data"
    }
   ],
   "source": [
    "display(X)"
   ]
  },
  {
   "cell_type": "code",
   "execution_count": 14,
   "metadata": {},
   "outputs": [
    {
     "name": "stdout",
     "output_type": "stream",
     "text": [
      "(426, 30)\n",
      "(426, 31)\n"
     ]
    }
   ],
   "source": [
    "from sklearn import datasets\n",
    "\n",
    "bc = datasets.load_breast_cancer()\n",
    "\n",
    "X,y = bc.data,bc.target\n",
    "# display(X)\n",
    "# display(y)\n",
    "\n",
    "\n",
    "from sklearn.model_selection import train_test_split\n",
    "X_train,X_test,Y_train,Y_test = train_test_split(X,y)\n",
    "# display(X_train)\n",
    "print(X_train.shape)\n",
    "X_train = insert_ones(X_train)\n",
    "X_test = insert_ones(X_test)\n",
    "# display(X_train)\n",
    "print(X_train.shape)"
   ]
  },
  {
   "cell_type": "code",
   "execution_count": 15,
   "metadata": {},
   "outputs": [
    {
     "data": {
      "image/png": "[encoded data removed]",
      "text/plain": [
       "<Figure size 640x480 with 1 Axes>"
      ]
     },
     "metadata": {},
     "output_type": "display_data"
    }
   ],
   "source": [
    "clf = BinaryLogisticRegression()\n",
    "clf.fit(X_train,Y_train,lr=0.00001,max_steps=1000)"
   ]
  },
  {
   "cell_type": "code",
   "execution_count": 16,
   "metadata": {},
   "outputs": [
    {
     "data": {
      "text/plain": [
       "array([1, 1, 1, 0, 0, 0, 1, 0, 1, 1, 1, 1, 1, 1, 1, 0, 1, 1, 1, 1, 0, 1,\n",
       "       1, 1, 1, 1, 1, 1, 1, 1, 0, 0, 0, 0, 0, 1, 1, 1, 1, 1, 0, 0, 0, 1,\n",
       "       1, 0, 0, 0, 1, 1, 1, 0, 1, 1, 1, 1, 1, 1, 0, 1, 1, 1, 0, 1, 1, 0,\n",
       "       0, 0, 0, 0, 0, 1, 1, 0, 1, 1, 1, 1, 1, 1, 1, 1, 1, 0, 1, 0, 1, 0,\n",
       "       1, 1, 1, 1, 1, 0, 1, 1, 0, 1, 1, 0, 0, 1, 1, 0, 0, 1, 1, 1, 1, 1,\n",
       "       0, 0, 0, 0, 0, 1, 0, 0, 1, 1, 0, 1, 1, 1, 0, 0, 0, 1, 1, 1, 1, 0,\n",
       "       1, 1, 1, 1, 1, 1, 0, 1, 0, 0, 1])"
      ]
     },
     "execution_count": 16,
     "metadata": {},
     "output_type": "execute_result"
    }
   ],
   "source": [
    "Y_test"
   ]
  },
  {
   "cell_type": "code",
   "execution_count": 17,
   "metadata": {},
   "outputs": [
    {
     "data": {
      "text/plain": [
       "array([1, 1, 1, 0, 0, 0, 1, 0, 1, 1, 1, 1, 1, 1, 1, 0, 1, 1, 1, 1, 0, 1,\n",
       "       1, 1, 1, 1, 1, 1, 1, 1, 0, 0, 1, 0, 0, 1, 1, 1, 1, 1, 0, 0, 0, 1,\n",
       "       1, 1, 0, 0, 1, 1, 1, 0, 1, 1, 1, 1, 1, 1, 0, 1, 1, 1, 0, 1, 1, 1,\n",
       "       0, 0, 0, 0, 0, 1, 1, 0, 1, 1, 1, 1, 1, 1, 1, 1, 1, 0, 1, 0, 1, 0,\n",
       "       1, 1, 1, 1, 1, 0, 1, 1, 0, 1, 1, 0, 0, 1, 1, 0, 1, 1, 1, 1, 1, 1,\n",
       "       0, 0, 0, 0, 1, 1, 1, 1, 1, 1, 0, 1, 1, 1, 0, 0, 1, 1, 1, 1, 1, 1,\n",
       "       1, 1, 1, 1, 1, 1, 0, 1, 0, 0, 1])"
      ]
     },
     "execution_count": 17,
     "metadata": {},
     "output_type": "execute_result"
    }
   ],
   "source": [
    "Y_pred = clf.predictYdiscrete(clf.w,X_test)\n",
    "np.array(Y_pred)"
   ]
  },
  {
   "cell_type": "code",
   "execution_count": 18,
   "metadata": {},
   "outputs": [
    {
     "data": {
      "text/plain": [
       "0.9370629370629371"
      ]
     },
     "execution_count": 18,
     "metadata": {},
     "output_type": "execute_result"
    }
   ],
   "source": [
    "clf.score(X=X_test,Y=Y_test)"
   ]
  }
 ],
 "metadata": {
  "kernelspec": {
   "display_name": "Python 3",
   "language": "python",
   "name": "python3"
  },
  "language_info": {
   "codemirror_mode": {
    "name": "ipython",
    "version": 3
   },
   "file_extension": ".py",
   "mimetype": "text/x-python",
   "name": "python",
   "nbconvert_exporter": "python",
   "pygments_lexer": "ipython3",
   "version": "3.11.6"
  }
 },
 "nbformat": 4,
 "nbformat_minor": 2
}
